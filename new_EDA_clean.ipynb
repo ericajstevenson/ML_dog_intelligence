{
 "cells": [
  {
   "cell_type": "code",
   "execution_count": null,
   "id": "16e02f83",
   "metadata": {},
   "outputs": [],
   "source": [
    "Data was obtained from 2 datasets that were uploaded to Kaggle\n",
    "Dogs Intelligence and Size\n",
    "An Exploration of Breed-Based Characteristics https://www.kaggle.com/datasets/thedevastator/canine-intelligence-and-size\n",
    "\n",
    "Dog Behavior Analysis Dataset\n",
    "Dog behavior classification with movement sensors https://www.kaggle.com/datasets/arashnic/animal-behavior-analysis\n",
    "\n",
    "Ideas and plan for this project\n",
    "with the intelligence and size datasets, see if there's some corelation between a dog's size and it's \"intelligence\" (as perceived by humans)\n",
    "teach myself a bit about gyroscopic and sensor data in order to understand how to use the data found in the behavior analysis dataset\n",
    "combine all datasets to find correlations (is there another word that would work better?) between dog size (weight OR height), movement, and intelligence (obey, reps upper and lower)\n",
    "other features: neutering status, age\n",
    "current questions\n",
    "what is reps upper and lower?\n",
    "why is there a low and high to height and weight? based on several measurements?"
   ]
  },
  {
   "cell_type": "code",
   "execution_count": null,
   "id": "7f57e310",
   "metadata": {},
   "outputs": [],
   "source": []
  },
  {
   "cell_type": "code",
   "execution_count": null,
   "id": "c63d829c",
   "metadata": {},
   "outputs": [],
   "source": []
  },
  {
   "cell_type": "code",
   "execution_count": null,
   "id": "289fef12",
   "metadata": {},
   "outputs": [],
   "source": [
    "df_ht_wt = pd.read_csv(\"breed_info.csv\",index_col=0)\n",
    "df_intel = pd.read_csv(\"dog_intelligence.csv\",index_col=0)\n",
    "\n",
    "# more complex movement dataset and id decoder\n",
    "df_mvmt = pd.read_csv(\"DogMoveData.csv\",index_col=0)\n",
    "df_info = pd.read_excel(\"DogInfo.xlsx\",index_col=0)"
   ]
  },
  {
   "cell_type": "code",
   "execution_count": null,
   "id": "9bf46fb4",
   "metadata": {},
   "outputs": [],
   "source": [
    "df_breed.shape, df_intel.shape, df_mvmt.shape, df_info.shape\n"
   ]
  }
 ],
 "metadata": {
  "kernelspec": {
   "display_name": "Python 3",
   "language": "python",
   "name": "python3"
  },
  "language_info": {
   "codemirror_mode": {
    "name": "ipython",
    "version": 3
   },
   "file_extension": ".py",
   "mimetype": "text/x-python",
   "name": "python",
   "nbconvert_exporter": "python",
   "pygments_lexer": "ipython3",
   "version": "3.8.8"
  }
 },
 "nbformat": 4,
 "nbformat_minor": 5
}
