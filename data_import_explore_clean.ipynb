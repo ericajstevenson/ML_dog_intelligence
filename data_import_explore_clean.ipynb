{
 "cells": [
  {
   "cell_type": "code",
   "execution_count": 1,
   "id": "2243c106",
   "metadata": {},
   "outputs": [],
   "source": [
    "import pandas as pd"
   ]
  },
  {
   "cell_type": "code",
   "execution_count": 2,
   "id": "73be438b",
   "metadata": {},
   "outputs": [],
   "source": [
    "df_breed = pd.read_csv(\"breed_info.csv\",index_col=0)\n",
    "df_intel = pd.read_csv(\"dog_intelligence.csv\",index_col=0)\n"
   ]
  },
  {
   "cell_type": "code",
   "execution_count": 3,
   "id": "034c8520",
   "metadata": {
    "scrolled": true
   },
   "outputs": [
    {
     "data": {
      "text/plain": [
       "((150,), (136,))"
      ]
     },
     "execution_count": 3,
     "metadata": {},
     "output_type": "execute_result"
    }
   ],
   "source": [
    "df_breed.Breed.shape, df_intel.Breed.shape"
   ]
  },
  {
   "cell_type": "code",
   "execution_count": 16,
   "id": "316f18b4",
   "metadata": {},
   "outputs": [
    {
     "name": "stdout",
     "output_type": "stream",
     "text": [
      "['Poodle Miniature', 'Collie', 'Polish Lowland Sheepdog', 'Bouvier Des Flandres', 'Old English Sheepdog', 'Cocker Spaniel-American', 'Wire Fox Terrier', 'Belgian Tervuren', 'Toy Fox Terrier', 'Old English Sheepdog (Bobtail)', 'Soft-coated Wheaten Terrier', 'Poodle', 'Griffon Bruxellois', 'Anatolian Sheepdog', 'Petit Basset Griffon Vendeen', 'Bull Dog', 'King Charles Spaniel', 'German Pinscher', 'Australian Silky Terrier', 'Manchester Terrier', 'Jack Russell terrier', 'Pembroke Welsh Corgi', 'Spinone Italiano', 'Plott Hound', 'Canaan Dog', 'Brussels Griffon', 'Airdale Terrier', 'Belgian Shepherd Dog (Tervuren)', 'Black Russian Terrier', 'Petit Basset Griffon Vend̩en', 'Norfolk Terrier', 'Manchester Terrier (Standard)', 'Otterhound', 'Cocker Spaniel', 'Shetland Sheepdog', 'Beauceron', 'Airedale Terrier', 'Sussex Spaniel', 'Fox Terrier ‰ÛÒ Smooth', 'Norwich Terrier', 'Coton de Tulear', 'German Shepherd', 'Bouvier des Flandres', 'Bulldog', 'Black and Tan Coonhound', 'English Cocker Spaniel', 'Miniature Schnauzer', 'Fox Terrier ‰ÛÒ Wirehair', 'Flat-Coated Retriever', 'Poodle Toy', 'Lhasa Apso', 'Miniature Pinscher', 'Harrier', 'American Eskimo', 'Pekingese', 'Nova Scotia Duck Tolling Retriever', 'English Toy Spaniel', 'Silky Terrier', 'Redbone Coonhound', 'Fox Terrier (Smooth)', 'Flat Coated Retriever', 'Collie (Rough) & (Smooth)', 'Black And Tan Coonhound', 'Manchester Terrier (Toy)', 'German Shepherd Dog', 'Havanese', 'Tibetan Mastiff', 'Neopolitan Mastiff', 'Otter Hound', 'Glen Imaal Terrier', 'Cocker Spaniel-English', 'Shetland Sheepdog (Sheltie)', 'Soft-Coated Wheaten Terrier', 'Komondor', 'Poodle Standard', 'Great Swiss Mountain Dog']\n"
     ]
    }
   ],
   "source": [
    "# find what breeds are NOT in BOTH datasets\n",
    "list1 = df_breed.Breed\n",
    "list2 = df_intel.Breed\n",
    "result = set(list1) ^ set(list2)\n",
    "print(list(result))"
   ]
  },
  {
   "cell_type": "code",
   "execution_count": null,
   "id": "86979ea5",
   "metadata": {},
   "outputs": [],
   "source": [
    "merged = pd.merge(df_breed, df_intel, on='Breed')"
   ]
  },
  {
   "cell_type": "code",
   "execution_count": null,
   "id": "32aaaecf",
   "metadata": {},
   "outputs": [],
   "source": [
    "# find what breeds were left out of the merge\n",
    "#FIX\n",
    "out = df_intel[~df_intel['Breed'].isin(merged['Breed'])]\n",
    "out"
   ]
  }
 ],
 "metadata": {
  "kernelspec": {
   "display_name": "Python 3",
   "language": "python",
   "name": "python3"
  },
  "language_info": {
   "codemirror_mode": {
    "name": "ipython",
    "version": 3
   },
   "file_extension": ".py",
   "mimetype": "text/x-python",
   "name": "python",
   "nbconvert_exporter": "python",
   "pygments_lexer": "ipython3",
   "version": "3.8.8"
  }
 },
 "nbformat": 4,
 "nbformat_minor": 5
}
